{
 "cells": [
  {
   "cell_type": "markdown",
   "id": "b962b15d",
   "metadata": {},
   "source": [
    "# Question 9"
   ]
  },
  {
   "cell_type": "markdown",
   "id": "7bf93102",
   "metadata": {},
   "source": [
    "Trying to add incompatible variables, as in adding 6 + ‘a’\n",
    "\n",
    "Ans : TypeError\n",
    "\n",
    "\n",
    "-> Referring to the 12th item of a list that has only 10 items\n",
    "\n",
    "Ans : IndexError\n",
    "\n",
    "\n",
    "-> Using a value that is out of range for a function’s input, such as calling math.sqrt(-1.0)\n",
    "\n",
    "Ans : ValueError\n",
    "\n",
    "\n",
    "-> Using an undeclared variable, such as print(x) when x has not been defined \n",
    "\n",
    "Ans : NameError: name 'x' is not defined\n",
    "\n",
    "\n",
    "-> Trying to open a file that does not exist, such as mistyping the file name or looking in the wrong directory\n",
    "\n",
    "Ans : FileNotFoundError\n"
   ]
  }
 ],
 "metadata": {
  "kernelspec": {
   "display_name": "Python 3",
   "language": "python",
   "name": "python3"
  },
  "language_info": {
   "codemirror_mode": {
    "name": "ipython",
    "version": 3
   },
   "file_extension": ".py",
   "mimetype": "text/x-python",
   "name": "python",
   "nbconvert_exporter": "python",
   "pygments_lexer": "ipython3",
   "version": "3.8.8"
  }
 },
 "nbformat": 4,
 "nbformat_minor": 5
}
