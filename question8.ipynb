{
 "cells": [
  {
   "cell_type": "markdown",
   "id": "9dbc5617",
   "metadata": {},
   "source": [
    "# question 8"
   ]
  },
  {
   "cell_type": "code",
   "execution_count": 2,
   "id": "313f4090",
   "metadata": {},
   "outputs": [],
   "source": [
    "def curconv(currencies , value):\n",
    "    if(currency == \"AUD\"):\n",
    "        print( value * 1.0345157)\n",
    "    elif(currency == \"CHF\"):\n",
    "        print( value * 1.0237414)\n",
    "    elif(currency == \"CNY\"):\n",
    "        print( value * 0.1550176)\n",
    "    elif(currency == \"DKK\"):\n",
    "        print( value * 0.1651442)\n",
    "    elif(currency == \"EUR\"):\n",
    "        print( value * 1.2296544)\n",
    "    elif(currency == \"GBP\"):\n",
    "        print( value * 1.5550989)\n",
    "    elif(currency == \"HKD\"):\n",
    "        print( value * 0.1270207)\n",
    "    elif(currency == \"INR\"):\n",
    "        print( value * 0.0177643)\n",
    "    elif(currency == \"JPY\"):\n",
    "        print( value * 0.01241401)\n",
    "    elif(currency == \"MXN\"):\n",
    "        print( value * 0.0751848)\n",
    "    elif(currency == \"MYR\"):\n",
    "        print( value * 0.3145411)\n",
    "    elif(currency == \"NOK\"):\n",
    "        print( value * 0.1677063)\n",
    "    elif(currency == \"NZD\"):\n",
    "        print( value * 0.8003591)\n",
    "    elif(currency == \"PHP\"):\n",
    "        print( value * 0.0233234)\n",
    "    elif(currency == \"SEK\"):\n",
    "        print( value * 0.148269)\n",
    "    elif(currency == \"SGD\"):\n",
    "        print( value * 0.788871)\n",
    "    elif(currency == \"THB\"):\n",
    "        print( value * 0.0313789)\n",
    "    else:\n",
    "        print(\"Give a correct currency symbol\")\n",
    "    if __name__ == \"__main__\":  \n",
    "        x_path = \"D:\\currencies.txt\" \n",
    "\n",
    "\n",
    "\n",
    "\n",
    "    \n"
   ]
  },
  {
   "cell_type": "code",
   "execution_count": null,
   "id": "836e6c4e",
   "metadata": {},
   "outputs": [],
   "source": []
  }
 ],
 "metadata": {
  "kernelspec": {
   "display_name": "Python 3",
   "language": "python",
   "name": "python3"
  },
  "language_info": {
   "codemirror_mode": {
    "name": "ipython",
    "version": 3
   },
   "file_extension": ".py",
   "mimetype": "text/x-python",
   "name": "python",
   "nbconvert_exporter": "python",
   "pygments_lexer": "ipython3",
   "version": "3.8.8"
  }
 },
 "nbformat": 4,
 "nbformat_minor": 5
}
