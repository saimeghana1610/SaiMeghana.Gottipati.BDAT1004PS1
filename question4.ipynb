{
 "cells": [
  {
   "cell_type": "markdown",
   "id": "d9931c81",
   "metadata": {},
   "source": [
    "# Question 4"
   ]
  },
  {
   "cell_type": "code",
   "execution_count": 2,
   "id": "301061d1",
   "metadata": {},
   "outputs": [],
   "source": [
    "using System;\n",
    "\n",
    "namespace Array\n",
    "{\n",
    "    class Demo\n",
    "    {\n",
    "        static void Main(string[] args)\n",
    "        {\n",
    "            int i, j, N;\n",
    "            Console.WriteLine(\"Maximum Range of Array\");\n",
    "            N = Convert.ToInt32(Console.ReadLine());\n",
    "            Console.WriteLine(\"Input Values of Array\");\n",
    "            int[] a = new int[N];\n",
    "            int[] even = new int[N];\n",
    "            int[] odd = new int[N];\n",
    "            for (i = 0; i < N; i++)\n",
    "            {\n",
    "                a[i] = Convert.ToInt32(Console.ReadLine());\n",
    "            }\n",
    "            Console.WriteLine(\"Input Elements:\");\n",
    "            for (i = 0; i < N; i++)\n",
    "            {\n",
    "                if (a[i] % 2 == 0)\n",
    "                {\n",
    "                    even[i] = a[i];\n",
    "                }\n",
    "                else\n",
    "                {\n",
    "                    odd[i] = a[i];\n",
    "                }\n",
    "            }\n",
    "            Console.WriteLine(\"Even Values from given output:\");\n",
    "            for (i = 0; i < even.Length; i++)\n",
    "            {\n",
    "                if (even[i] == 0)\n",
    "                {\n",
    "                    Console.Write(\"\");\n",
    "                }\n",
    "                else\n",
    "                    Console.WriteLine(even[i]);\n",
    "            }\n",
    "            Console.WriteLine(\"Odd Values from given input:\");\n",
    "            for (i = 0; i < odd.Length; i++)\n",
    "            {\n",
    "                if (odd[i] == 0)\n",
    "                {\n",
    "                    Console.Write(\"\");\n",
    "                }\n",
    "                else\n",
    "                    Console.WriteLine(odd[i]);\n",
    "            }\n",
    "            Console.ReadLine();\n",
    "        }\n",
    "    }\n",
    "    \n",
    "}"
   ]
  },
  {
   "attachments": {},
   "cell_type": "markdown",
   "id": "d3823761",
   "metadata": {},
   "source": []
  }
 ],
 "metadata": {
  "kernelspec": {
   "display_name": ".NET (C#)",
   "language": "C#",
   "name": ".net-csharp"
  },
  "language_info": {
   "file_extension": ".cs",
   "mimetype": "text/x-csharp",
   "name": "C#",
   "pygments_lexer": "csharp",
   "version": "8.0"
  }
 },
 "nbformat": 4,
 "nbformat_minor": 5
}
