{
 "cells": [
  {
   "cell_type": "markdown",
   "id": "f649ab80",
   "metadata": {},
   "source": [
    "# Question 3"
   ]
  },
  {
   "cell_type": "code",
   "execution_count": null,
   "id": "9e80bc91",
   "metadata": {},
   "outputs": [],
   "source": [
    "using System;\n",
    "\n",
    "namespace Heron\n",
    "{\n",
    "    class HeronsFormula\n",
    "    {\n",
    "        public static void Main(string[] args)\n",
    "\n",
    "        {\n",
    "            double a,b,c;\n",
    "            double s , area;\n",
    "            Console.WriteLine(\"type value for a\");\n",
    "            a = double.Parse(Console.ReadLine()); \n",
    "            Console.WriteLine(\"type value for b\");\n",
    "            b = double.Parse(Console.ReadLine());\n",
    "            Console.WriteLine(\"type value for c\");\n",
    "            c = double.Parse(Console.ReadLine());\n",
    "            s = (a + b + c) / 2;\n",
    "            area = Math.Sqrt(s * (s - a) * (s - b) * (s - c));\n",
    "            Console.WriteLine(\"Area of triangle is : \", area);\n",
    "\n",
    "        }\n",
    "    }\n",
    "\n",
    "}"
   ]
  },
  {
   "cell_type": "code",
   "execution_count": null,
   "id": "7d66a462",
   "metadata": {},
   "outputs": [],
   "source": []
  }
 ],
 "metadata": {
  "kernelspec": {
   "display_name": ".NET (C#)",
   "language": "C#",
   "name": ".net-csharp"
  },
  "language_info": {
   "file_extension": ".cs",
   "mimetype": "text/x-csharp",
   "name": "C#",
   "pygments_lexer": "csharp",
   "version": "8.0"
  }
 },
 "nbformat": 4,
 "nbformat_minor": 5
}
