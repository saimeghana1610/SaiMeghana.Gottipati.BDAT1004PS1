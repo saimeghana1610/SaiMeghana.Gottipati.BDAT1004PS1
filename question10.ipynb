{
 "cells": [
  {
   "cell_type": "markdown",
   "id": "104ebd57",
   "metadata": {},
   "source": [
    "# Question 10"
   ]
  },
  {
   "cell_type": "code",
   "execution_count": 1,
   "id": "a567b910",
   "metadata": {},
   "outputs": [
    {
     "name": "stdout",
     "output_type": "stream",
     "text": [
      "apple\n",
      "[1, 0, 0, 0, 1, 0, 0, 0, 0, 0, 0, 1, 0, 0, 0, 2, 0, 0, 0, 0, 0, 0, 0, 0, 0, 0]\n"
     ]
    }
   ],
   "source": [
    "s = input()\n",
    "s = s.lower()\n",
    "def frequencies(s):\n",
    "    arr = [0]*26;\n",
    "    for m in s:\n",
    "        if(m.isalpha()):\n",
    "            arr[ord(m)-97] = arr[ord(m)-97] + 1\n",
    "    print(arr)\n",
    "frequencies(s)"
   ]
  },
  {
   "cell_type": "code",
   "execution_count": 1,
   "id": "a0b769bd",
   "metadata": {},
   "outputs": [
    {
     "name": "stdout",
     "output_type": "stream",
     "text": [
      "The quick red fox got bored and went home.\n",
      "[1, 1, 1, 3, 5, 1, 1, 2, 1, 0, 1, 0, 1, 2, 4, 0, 1, 2, 0, 3, 1, 0, 1, 1, 0, 0]\n"
     ]
    }
   ],
   "source": [
    "s = input()\n",
    "s = s.lower()\n",
    "def frequencies(s):\n",
    "    arr = [0]*26;\n",
    "    for m in s:\n",
    "        if(m.isalpha()):\n",
    "            arr[ord(m)-97] = arr[ord(m)-97] + 1\n",
    "    print(arr)\n",
    "frequencies(s)"
   ]
  },
  {
   "cell_type": "code",
   "execution_count": null,
   "id": "1921f90c",
   "metadata": {},
   "outputs": [],
   "source": []
  }
 ],
 "metadata": {
  "kernelspec": {
   "display_name": "Python 3",
   "language": "python",
   "name": "python3"
  },
  "language_info": {
   "codemirror_mode": {
    "name": "ipython",
    "version": 3
   },
   "file_extension": ".py",
   "mimetype": "text/x-python",
   "name": "python",
   "nbconvert_exporter": "python",
   "pygments_lexer": "ipython3",
   "version": "3.8.8"
  }
 },
 "nbformat": 4,
 "nbformat_minor": 5
}
