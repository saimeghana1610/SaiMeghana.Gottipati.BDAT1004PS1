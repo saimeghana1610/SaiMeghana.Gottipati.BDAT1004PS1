{
 "cells": [
  {
   "cell_type": "markdown",
   "id": "2e3266de",
   "metadata": {},
   "source": [
    "# Question 6"
   ]
  },
  {
   "cell_type": "code",
   "execution_count": 4,
   "id": "a6b65d5f",
   "metadata": {},
   "outputs": [
    {
     "name": "stdout",
     "output_type": "stream",
     "text": [
      "happy\n",
      "appyhay\n"
     ]
    }
   ],
   "source": [
    "s = input()\n",
    "def pig(s):\n",
    "    if(vowel(s[0])):\n",
    "        s = s + \"way\"\n",
    "    else:\n",
    "        s = s[1 : ] + s[0 : 1]\n",
    "        s = s + \"ay\"\n",
    "    print(s)\n",
    "def vowel(x):\n",
    "    if(x == 'a' or x == 'e' or x == 'i' or x == 'o' or x == 'u' or x == 'A' or x == 'E' or x == 'I' or x == 'O' or x == 'U'):\n",
    "        return 1\n",
    "    else:\n",
    "        return 0\n",
    "pig(s)\n",
    "    "
   ]
  },
  {
   "cell_type": "code",
   "execution_count": 1,
   "id": "655172a9",
   "metadata": {},
   "outputs": [
    {
     "name": "stdout",
     "output_type": "stream",
     "text": [
      "enter\n",
      "enterway\n"
     ]
    }
   ],
   "source": [
    "s = input()\n",
    "def pig(s):\n",
    "    if(vowel(s[0])):\n",
    "        s = s + \"way\"\n",
    "    else:\n",
    "        s = s[1 : ] + s[0 : 1]\n",
    "        s = s + \"ay\"\n",
    "    print(s)\n",
    "def vowel(x):\n",
    "    if(x == 'a' or x == 'e' or x == 'i' or x == 'o' or x == 'u' or x == 'A' or x == 'E' or x == 'I' or x == 'O' or x == 'U'):\n",
    "        return 1\n",
    "    else:\n",
    "        return 0\n",
    "pig(s)"
   ]
  },
  {
   "cell_type": "code",
   "execution_count": null,
   "id": "7e40f8e8",
   "metadata": {},
   "outputs": [],
   "source": []
  }
 ],
 "metadata": {
  "kernelspec": {
   "display_name": "Python 3",
   "language": "python",
   "name": "python3"
  },
  "language_info": {
   "codemirror_mode": {
    "name": "ipython",
    "version": 3
   },
   "file_extension": ".py",
   "mimetype": "text/x-python",
   "name": "python",
   "nbconvert_exporter": "python",
   "pygments_lexer": "ipython3",
   "version": "3.8.8"
  }
 },
 "nbformat": 4,
 "nbformat_minor": 5
}
