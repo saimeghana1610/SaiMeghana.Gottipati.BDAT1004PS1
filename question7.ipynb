{
 "cells": [
  {
   "cell_type": "markdown",
   "id": "6e7d0fe2",
   "metadata": {},
   "source": [
    "# Question 7"
   ]
  },
  {
   "cell_type": "code",
   "execution_count": 1,
   "id": "467e4c4e",
   "metadata": {},
   "outputs": [
    {
     "name": "stdout",
     "output_type": "stream",
     "text": [
      "there are 15 patients of blood type A\n",
      "there is one patients of blood type B\n",
      "there are 13 patients of blood type AB\n",
      "there are 15 patients of blood type O\n",
      "there are no patients of blood type OO\n"
     ]
    }
   ],
   "source": [
    "def bldcount(file):\n",
    "    file = open(file, \"r\")\n",
    "    s = file.read()\n",
    "    x = s.split()\n",
    "    dict = {'A': 0 , 'B': 0 , 'AB': 0 , 'O': 0 , 'OO': 0}\n",
    "    for i in x:\n",
    "        if(i == \"A\"):\n",
    "            dict[\"A\"] += 1\n",
    "        elif(i == \"B\"):\n",
    "            dict[\"B\"] += 1\n",
    "        elif(i == \"AB\"):\n",
    "            dict[\"AB\"] += 1\n",
    "        elif(i == \"O\"):\n",
    "            dict[\"O\"] += 1\n",
    "        else:\n",
    "            dict[\"OO\"] += 1\n",
    "    for i in dict:\n",
    "        if(dict[i]==0):\n",
    "            print(\"there are no patients of blood type \" + i)\n",
    "        elif(dict[i]==1):\n",
    "            print(\"there is one patients of blood type \" + i)\n",
    "        else:\n",
    "            print(\"there are \" + str(dict[i]) + \" patients of blood type \" + i)\n",
    "if __name__ == \"__main__\":  \n",
    "    x_path = \"C:/Users/Dell/Downloads/bloodtype1.txt\" \n",
    "\n",
    "bldcount(x_path)\n",
    "\n"
   ]
  },
  {
   "cell_type": "code",
   "execution_count": null,
   "id": "f88a5db6",
   "metadata": {},
   "outputs": [],
   "source": []
  },
  {
   "cell_type": "code",
   "execution_count": null,
   "id": "4f288345",
   "metadata": {},
   "outputs": [],
   "source": []
  },
  {
   "cell_type": "code",
   "execution_count": null,
   "id": "711f0b20",
   "metadata": {},
   "outputs": [],
   "source": []
  },
  {
   "cell_type": "code",
   "execution_count": null,
   "id": "c43cd6f4",
   "metadata": {},
   "outputs": [],
   "source": []
  }
 ],
 "metadata": {
  "kernelspec": {
   "display_name": "Python 3",
   "language": "python",
   "name": "python3"
  },
  "language_info": {
   "codemirror_mode": {
    "name": "ipython",
    "version": 3
   },
   "file_extension": ".py",
   "mimetype": "text/x-python",
   "name": "python",
   "nbconvert_exporter": "python",
   "pygments_lexer": "ipython3",
   "version": "3.8.8"
  }
 },
 "nbformat": 4,
 "nbformat_minor": 5
}
