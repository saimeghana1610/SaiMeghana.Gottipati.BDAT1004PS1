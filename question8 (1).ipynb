{
 "cells": [
  {
   "cell_type": "markdown",
   "id": "9dbc5617",
   "metadata": {},
   "source": [
    "# question 8"
   ]
  },
  {
   "cell_type": "code",
   "execution_count": 2,
   "id": "313f4090",
   "metadata": {},
   "outputs": [
    {
     "name": "stdout",
     "output_type": "stream",
     "text": [
      "1.241401\n",
      "122.96544\n"
     ]
    }
   ],
   "source": [
    "def curconv(curr, amt):\n",
    "    with open(\"C:\\\\Users\\\\DELL\\\\Desktop\\\\currencies.txt\", \"r\") as file:\n",
    "        for line in file:\n",
    "            words = line.split()\n",
    "            if curr in words:\n",
    "                print(amt * float(words[1]))\n",
    "\n",
    "curconv('JPY', 100)\n",
    "curconv('EUR', 100)\n",
    "\n",
    "\n",
    "\n",
    "\n",
    "\n",
    "\n",
    "    \n"
   ]
  },
  {
   "cell_type": "code",
   "execution_count": null,
   "id": "836e6c4e",
   "metadata": {},
   "outputs": [],
   "source": []
  }
 ],
 "metadata": {
  "kernelspec": {
   "display_name": "Python 3",
   "language": "python",
   "name": "python3"
  },
  "language_info": {
   "codemirror_mode": {
    "name": "ipython",
    "version": 3
   },
   "file_extension": ".py",
   "mimetype": "text/x-python",
   "name": "python",
   "nbconvert_exporter": "python",
   "pygments_lexer": "ipython3",
   "version": "3.8.8"
  }
 },
 "nbformat": 4,
 "nbformat_minor": 5
}
