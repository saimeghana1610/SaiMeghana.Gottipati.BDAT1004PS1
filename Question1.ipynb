{
 "cells": [
  {
   "cell_type": "markdown",
   "id": "b19ab5b8",
   "metadata": {},
   "source": [
    "# Question 1"
   ]
  },
  {
   "cell_type": "code",
   "execution_count": null,
   "id": "7385814a",
   "metadata": {},
   "outputs": [],
   "source": [
    "5 - int\n",
    "5.0 - float\n",
    "5 > 1 - boolean\n",
    "'5' - char\n",
    "5 * 2 - int\n",
    "'5' * 2 - int\n",
    "'5' + '2' - int\n",
    "5 / 2 - int\n",
    "5 % 2 - int\n",
    "{5 , 2 , 1} - int array(int[])\n",
    "5 == 3 - boolean\n",
    "Pi(the number) - double"
   ]
  }
 ],
 "metadata": {
  "kernelspec": {
   "display_name": ".NET (C#)",
   "language": "C#",
   "name": ".net-csharp"
  },
  "language_info": {
   "file_extension": ".cs",
   "mimetype": "text/x-csharp",
   "name": "C#",
   "pygments_lexer": "csharp",
   "version": "8.0"
  }
 },
 "nbformat": 4,
 "nbformat_minor": 5
}
