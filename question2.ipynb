{
 "cells": [
  {
   "cell_type": "markdown",
   "id": "df1551f8",
   "metadata": {},
   "source": [
    "# question 2"
   ]
  },
  {
   "cell_type": "markdown",
   "id": "6336e810",
   "metadata": {},
   "source": [
    "2(a)"
   ]
  },
  {
   "cell_type": "code",
   "execution_count": null,
   "id": "091888a6",
   "metadata": {},
   "outputs": [],
   "source": [
    "using System;\n",
    "\n",
    "namespace question2_a_\n",
    "{\n",
    "    class Program\n",
    "    {\n",
    "        static void Main(string[] args)\n",
    "        {\n",
    "            string text = \"Supercalifragilisticexpialidocious\";\n",
    "            Console.WriteLine(\"Supercalifragilisticexpialidocious\");\n",
    "            Console.WriteLine(\"the length of the text string is : \" + text.Length);\n",
    "        }\n",
    "    }\n",
    "}\n"
   ]
  },
  {
   "cell_type": "markdown",
   "id": "18f69077",
   "metadata": {},
   "source": [
    "2(b)"
   ]
  },
  {
   "cell_type": "code",
   "execution_count": null,
   "id": "1a0cd6df",
   "metadata": {},
   "outputs": [],
   "source": [
    "using System;\n",
    "\n",
    "namespace question2\n",
    "{\n",
    "    class Program\n",
    "    {\n",
    "        static void Main(string[] args)\n",
    "        {\n",
    "            string string1 = \"Supercalifragilisticexpialidocious\";\n",
    "            Console.WriteLine(\"Supercalifragilisticexpialidocious\");\n",
    "            string substring = \"ice\";\n",
    "            Console.WriteLine(\"ice\");\n",
    "            if(string1.Contains(substring))\n",
    "            {\n",
    "                Console.WriteLine(\"true\");\n",
    "            }\n",
    "            else\n",
    "            {\n",
    "                Console.WriteLine(\"false\");\n",
    "            }\n",
    "        }\n",
    "    }\n",
    "}"
   ]
  },
  {
   "cell_type": "markdown",
   "id": "540c685b",
   "metadata": {},
   "source": [
    "2(c)"
   ]
  },
  {
   "cell_type": "code",
   "execution_count": null,
   "id": "08189e4c",
   "metadata": {},
   "outputs": [],
   "source": [
    "using System;\n",
    "\n",
    "namespace question2_c_\n",
    "{\n",
    "    class Program\n",
    "    {\n",
    "        static void Main(string[] args)\n",
    "        {\n",
    "            string x = \"Supercalifragilisticexpialidocious\";\n",
    "            string y = \"Honorificabilitudinitatibus\";\n",
    "            string z = \"Bababadalgharaghtakamminarronnkonn\";\n",
    "            if(x.Length > y.Length && x.Length > z.Length)\n",
    "            {\n",
    "                Console.WriteLine(\"Supercalifragilisticexpialidocious\");\n",
    "            }\n",
    "            else if(y.Length > z.Length)\n",
    "            {\n",
    "                Console.WriteLine(\"Honorificabilitudinitatibus\");\n",
    "            }\n",
    "            else\n",
    "            {\n",
    "                Console.WriteLine(\"Bababadalgharaghtakamminarronnkonn\");\n",
    "            }\n",
    "        }\n",
    "    }\n",
    "}\n"
   ]
  },
  {
   "cell_type": "markdown",
   "id": "a8026618",
   "metadata": {},
   "source": [
    "2(d)"
   ]
  },
  {
   "cell_type": "code",
   "execution_count": null,
   "id": "3e460899",
   "metadata": {},
   "outputs": [],
   "source": [
    "using System;\n",
    "\n",
    "namespace question2_d_\n",
    "{\n",
    "    class Program\n",
    "    {\n",
    "        private static string[] var;\n",
    "\n",
    "        static void Main(string[] args)\n",
    "        {\n",
    "            String[] varb = { \"Berlioz\", \"Borodin\", \"Brian\", \"Bartok\", \"Bellini\", \"Buxtehude\", \"Bernstein\" };\n",
    "            Array.Sort<string>(varb);\n",
    "            foreach(var varb1 in varb)\n",
    "            {\n",
    "                Console.WriteLine(varb1);\n",
    "            }\n",
    "           \n",
    "        }\n",
    "    }\n",
    "}\n"
   ]
  }
 ],
 "metadata": {
  "kernelspec": {
   "display_name": ".NET (C#)",
   "language": "C#",
   "name": ".net-csharp"
  },
  "language_info": {
   "file_extension": ".cs",
   "mimetype": "text/x-csharp",
   "name": "C#",
   "pygments_lexer": "csharp",
   "version": "8.0"
  }
 },
 "nbformat": 4,
 "nbformat_minor": 5
}
