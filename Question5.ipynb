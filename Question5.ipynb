{
 "cells": [
  {
   "cell_type": "markdown",
   "id": "82ee1dc1",
   "metadata": {},
   "source": [
    "# QUESTION 5(a)"
   ]
  },
  {
   "cell_type": "code",
   "execution_count": 4,
   "id": "e575c952",
   "metadata": {},
   "outputs": [
    {
     "name": "stdout",
     "output_type": "stream",
     "text": [
      "True"
     ]
    }
   ],
   "source": [
    " static bool inside(int x1, int y1, int x2, int y2, int x, int y)\n",
    "{\n",
    "    if(x>x1 && x<x2 && y>y1 && y<y2)\n",
    "        return true;\n",
    "        return false;\n",
    "}\n",
    "int x1 = 0, y1 = 0, x2 = 2, y2 = 3;\n",
    "int x = 1, y = 1;\n",
    "    if(inside(x1,y1,x2,y2,x,y))\n",
    "        Console.Write(\"True\");\n",
    "    else\n",
    "        Console.Write(\"False\");"
   ]
  },
  {
   "cell_type": "code",
   "execution_count": 6,
   "id": "104a9711",
   "metadata": {},
   "outputs": [
    {
     "name": "stdout",
     "output_type": "stream",
     "text": [
      "False"
     ]
    }
   ],
   "source": [
    "static bool inside(int x1, int y1, int x2, int y2, int x, int y)\n",
    "{\n",
    "    if(x>x1 && x<x2 && y>y1 && y<y2)\n",
    "        return true;\n",
    "        return false;\n",
    "}\n",
    "int x1 = 0, y1 = 0, x2 = 2, y2 = 3;\n",
    "int x = -1, y = -1;\n",
    "    if(inside(x1,y1,x2,y2,x,y))\n",
    "        Console.Write(\"True\");\n",
    "    else\n",
    "        Console.Write(\"False\");"
   ]
  },
  {
   "cell_type": "markdown",
   "id": "7cd9cdf6",
   "metadata": {},
   "source": [
    "# 5(b)"
   ]
  },
  {
   "cell_type": "code",
   "execution_count": 1,
   "id": "ac351929",
   "metadata": {},
   "outputs": [
    {
     "name": "stdout",
     "output_type": "stream",
     "text": [
      "False"
     ]
    }
   ],
   "source": [
    "static bool inside(double x1, double y1, double x2, double y2, double x, double y)\n",
    "{\n",
    "    if(x>x1 && x<x2 && y>y1 && y<y2)\n",
    "        return true;\n",
    "        return false;\n",
    "}\n",
    "double x1 = 0.3, y1 = 0.5, x2 = 1.1, y2 = 0.7;\n",
    "int x = 1, y = 1;\n",
    "    if(inside(x1,y1,x2,y2,x,y))\n",
    "        Console.Write(\"True\");\n",
    "    else\n",
    "        Console.Write(\"False\");"
   ]
  },
  {
   "cell_type": "code",
   "execution_count": 2,
   "id": "22fa9169",
   "metadata": {},
   "outputs": [
    {
     "name": "stdout",
     "output_type": "stream",
     "text": [
      "True"
     ]
    }
   ],
   "source": [
    "static bool inside(double x1, double y1, double x2, double y2, double x, double y)\n",
    "{\n",
    "    if(x>x1 && x<x2 && y>y1 && y<y2)\n",
    "        return true;\n",
    "        return false;\n",
    "}\n",
    "double x1 = 0.5, y1 = 0.2, x2 = 1.1, y2 = 2;\n",
    "int x = 1, y = 1;\n",
    "    if(inside(x1,y1,x2,y2,x,y))\n",
    "        Console.Write(\"True\");\n",
    "    else\n",
    "        Console.Write(\"False\");"
   ]
  },
  {
   "cell_type": "code",
   "execution_count": null,
   "id": "b9aefe64",
   "metadata": {},
   "outputs": [],
   "source": []
  }
 ],
 "metadata": {
  "kernelspec": {
   "display_name": ".NET (C#)",
   "language": "C#",
   "name": ".net-csharp"
  },
  "language_info": {
   "file_extension": ".cs",
   "mimetype": "text/x-csharp",
   "name": "C#",
   "pygments_lexer": "csharp",
   "version": "8.0"
  }
 },
 "nbformat": 4,
 "nbformat_minor": 5
}
